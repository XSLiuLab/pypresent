{
 "cells": [
  {
   "cell_type": "markdown",
   "metadata": {},
   "source": [
    "## Example usage of PyPresent code"
   ]
  },
  {
   "cell_type": "markdown",
   "metadata": {},
   "source": [
    "Move into the PyPresent directory"
   ]
  },
  {
   "cell_type": "code",
   "execution_count": 1,
   "metadata": {
    "ExecuteTime": {
     "end_time": "2019-09-27T10:54:15.434834Z",
     "start_time": "2019-09-27T10:54:15.432030Z"
    }
   },
   "outputs": [],
   "source": [
    "import sys\n",
    "sys.path.append('/home/wsx/projects/pypresent/')"
   ]
  },
  {
   "cell_type": "markdown",
   "metadata": {},
   "source": [
    "Import the necessary modules"
   ]
  },
  {
   "cell_type": "code",
   "execution_count": 2,
   "metadata": {
    "ExecuteTime": {
     "end_time": "2019-09-27T10:54:16.265385Z",
     "start_time": "2019-09-27T10:54:15.437070Z"
    }
   },
   "outputs": [],
   "source": [
    "from mutation import Mutation\n",
    "from allele import Allele\n",
    "from patient import Patient\n",
    "from config import check"
   ]
  },
  {
   "cell_type": "markdown",
   "metadata": {},
   "source": [
    "### Create a mutation object <br>\n",
    "This object represents the mutated residue that could be presented. There are **two** ways to import the sequence:"
   ]
  },
  {
   "cell_type": "markdown",
   "metadata": {},
   "source": [
    "**Example mutation:**<br>\n",
    "* Gene: OR5AC1 <br>\n",
    "* Mutated position: 20 <br>\n",
    "* Native amino acid: X <br>\n",
    "* New amino acid: 'K' <br>"
   ]
  },
  {
   "cell_type": "code",
   "execution_count": 3,
   "metadata": {
    "ExecuteTime": {
     "end_time": "2019-09-27T10:54:16.280531Z",
     "start_time": "2019-09-27T10:54:16.268038Z"
    }
   },
   "outputs": [
    {
     "name": "stdout",
     "output_type": "stream",
     "text": [
      "9 30\n",
      "5 34\n"
     ]
    }
   ],
   "source": [
    "# 1. Fasta file\n",
    "mut = Mutation(20, 'K', from_file=True, gene_fasta_file='./data/protein.fa', id='OR5AC1_X20K')"
   ]
  },
  {
   "cell_type": "code",
   "execution_count": 4,
   "metadata": {
    "ExecuteTime": {
     "end_time": "2019-09-27T10:54:16.361723Z",
     "start_time": "2019-09-27T10:54:16.282743Z"
    },
    "scrolled": true
   },
   "outputs": [],
   "source": [
    "# 2. Directly with a string\n",
    "#from Bio import SeqIO\n",
    "#with open('./data/protein.fa', 'r') as handle:\n",
    "#    fasta_sequences = next(SeqIO.parse(handle,'fasta'))\n",
    "#sequence = str(fasta_sequences.seq)\n",
    "#mut = Mutation(21, 'K', from_file=False, gene_sequence=sequence, native_aa='P', id='OR5AC1_P21K')"
   ]
  },
  {
   "cell_type": "code",
   "execution_count": 5,
   "metadata": {
    "ExecuteTime": {
     "end_time": "2019-09-27T10:54:16.435364Z",
     "start_time": "2019-09-27T10:54:16.365985Z"
    }
   },
   "outputs": [
    {
     "name": "stdout",
     "output_type": "stream",
     "text": [
      "9 30\n",
      "5 34\n"
     ]
    }
   ],
   "source": [
    "# 1. Fasta file\n",
    "mut = Mutation(20, 'H', from_file=True, \n",
    "               gene_fasta_file='./data/protein.fa', id='OR5AC1_X20K',\n",
    "               native_aa='H')"
   ]
  },
  {
   "cell_type": "markdown",
   "metadata": {},
   "source": [
    "### Create an allele object <br>\n",
    "This object represents a single MHC-I or MHC-II allele. Only create an allele object if you want a single-allelic score."
   ]
  },
  {
   "cell_type": "code",
   "execution_count": 6,
   "metadata": {
    "ExecuteTime": {
     "end_time": "2019-09-27T10:54:16.511727Z",
     "start_time": "2019-09-27T10:54:16.438403Z"
    }
   },
   "outputs": [],
   "source": [
    "aI = Allele('HLA-A01:01', mhc_class='I')"
   ]
  },
  {
   "cell_type": "code",
   "execution_count": 7,
   "metadata": {
    "ExecuteTime": {
     "end_time": "2019-09-27T10:54:16.578643Z",
     "start_time": "2019-09-27T10:54:16.514449Z"
    }
   },
   "outputs": [],
   "source": [
    "aII = Allele('DRB1_1114', mhc_class='II')"
   ]
  },
  {
   "cell_type": "markdown",
   "metadata": {},
   "source": [
    "Call single-allelic score"
   ]
  },
  {
   "cell_type": "code",
   "execution_count": 8,
   "metadata": {
    "ExecuteTime": {
     "end_time": "2019-09-27T10:54:16.638218Z",
     "start_time": "2019-09-27T10:54:16.581798Z"
    }
   },
   "outputs": [
    {
     "name": "stdout",
     "output_type": "stream",
     "text": [
      "{'id': 'HLA-A01:01', 'mhc_class': 'I'}\n"
     ]
    }
   ],
   "source": [
    "check(aI)"
   ]
  },
  {
   "cell_type": "code",
   "execution_count": 9,
   "metadata": {
    "ExecuteTime": {
     "end_time": "2019-09-27T10:54:16.724876Z",
     "start_time": "2019-09-27T10:54:16.643985Z"
    }
   },
   "outputs": [
    {
     "name": "stdout",
     "output_type": "stream",
     "text": [
      "{'aa': 'H',\n",
      " 'gene_fasta_file': './data/protein.fa',\n",
      " 'id': 'OR5AC1_X20K',\n",
      " 'native_aa': 'H',\n",
      " 'peptidesI': ['VLTGLTDH',\n",
      "               'LTGLTDHP',\n",
      "               'TGLTDHPG',\n",
      "               'GLTDHPGL',\n",
      "               'LTDHPGLQ',\n",
      "               'TDHPGLQA',\n",
      "               'DHPGLQAP',\n",
      "               'HPGLQAPL',\n",
      "               'FVLTGLTDH',\n",
      "               'VLTGLTDHP',\n",
      "               'LTGLTDHPG',\n",
      "               'TGLTDHPGL',\n",
      "               'GLTDHPGLQ',\n",
      "               'LTDHPGLQA',\n",
      "               'TDHPGLQAP',\n",
      "               'DHPGLQAPL',\n",
      "               'HPGLQAPLF',\n",
      "               'HFVLTGLTDH',\n",
      "               'FVLTGLTDHP',\n",
      "               'VLTGLTDHPG',\n",
      "               'LTGLTDHPGL',\n",
      "               'TGLTDHPGLQ',\n",
      "               'GLTDHPGLQA',\n",
      "               'LTDHPGLQAP',\n",
      "               'TDHPGLQAPL',\n",
      "               'DHPGLQAPLF',\n",
      "               'HPGLQAPLFL',\n",
      "               'THFVLTGLTDH',\n",
      "               'HFVLTGLTDHP',\n",
      "               'FVLTGLTDHPG',\n",
      "               'VLTGLTDHPGL',\n",
      "               'LTGLTDHPGLQ',\n",
      "               'TGLTDHPGLQA',\n",
      "               'GLTDHPGLQAP',\n",
      "               'LTDHPGLQAPL',\n",
      "               'TDHPGLQAPLF',\n",
      "               'DHPGLQAPLFL',\n",
      "               'HPGLQAPLFLV'],\n",
      " 'peptidesII': ['KILVTHFVLTGLTDH',\n",
      "                'ILVTHFVLTGLTDHP',\n",
      "                'LVTHFVLTGLTDHPG',\n",
      "                'VTHFVLTGLTDHPGL',\n",
      "                'THFVLTGLTDHPGLQ',\n",
      "                'HFVLTGLTDHPGLQA',\n",
      "                'FVLTGLTDHPGLQAP',\n",
      "                'VLTGLTDHPGLQAPL',\n",
      "                'LTGLTDHPGLQAPLF',\n",
      "                'TGLTDHPGLQAPLFL',\n",
      "                'GLTDHPGLQAPLFLV',\n",
      "                'LTDHPGLQAPLFLVF',\n",
      "                'TDHPGLQAPLFLVFL',\n",
      "                'DHPGLQAPLFLVFLV',\n",
      "                'HPGLQAPLFLVFLVI'],\n",
      " 'residue': 20,\n",
      " 'restricted_fasta_fileI': '/home/wsx/tmp/netMHC/OR5AC1_X20K_1569581656',\n",
      " 'restricted_fasta_fileII': '/home/wsx/tmp/netMHC/OR5AC1_X20K_1569581656',\n",
      " 'sequence': 'MAEENKILVTHFVLTGLTDHPGLQAPLFLVFLVIYLITLVGNLGLMALIWKDPHLHTPIYLFLGSLAFADACTSSSVTSKMLINFFIKESYAIHG*VCHPVLLFWFQCNHRMLPAGSDGL*PLCSHMQSLALSSGDVQ*PLYSVYRYFIFYWFSAFSDSCGFVI*INFLQVQYYTLFLL*NFTAVQNFLHQSYS*YTSDFHLFSIYTSLHFYDSYRLLLLYSLCHPEKEV*EG*KQSLLYLQCPSALCLFVLRHPLLHVCEF*VWISCRSGQNVFFILHNNNSFTKSFYLQPKEQRGYRCPEKNHEEI',\n",
      " 'short_mutated_sequenceI': 'THFVLTGLTDHPGLQAPLFLV',\n",
      " 'short_mutated_sequenceII': 'KILVTHFVLTGLTDHPGLQAPLFLVFLVI'}\n"
     ]
    }
   ],
   "source": [
    "check(mut)"
   ]
  },
  {
   "cell_type": "code",
   "execution_count": 10,
   "metadata": {
    "ExecuteTime": {
     "end_time": "2019-09-27T10:54:18.223324Z",
     "start_time": "2019-09-27T10:54:16.728781Z"
    },
    "scrolled": true
   },
   "outputs": [
    {
     "name": "stdout",
     "output_type": "stream",
     "text": [
      "Running command:  /public/tools/netMHC/netMHCpan-4.0/netMHCpan -a HLA-A01:01 -f /home/wsx/tmp/netMHC/OR5AC1_X20K_1569581656 -xls -xlsfile /home/wsx/tmp/netMHC/raw_affinities.OR5AC1_X20K_YGIJB3 > /home/wsx/tmp/netMHC/trash.OR5AC1_X20K_YGIJB3\n"
     ]
    },
    {
     "data": {
      "text/plain": [
       "0.262"
      ]
     },
     "execution_count": 10,
     "metadata": {},
     "output_type": "execute_result"
    }
   ],
   "source": [
    "aI.allele_score(mut, verbose = True)"
   ]
  },
  {
   "cell_type": "code",
   "execution_count": 11,
   "metadata": {
    "ExecuteTime": {
     "end_time": "2019-09-27T10:54:18.662729Z",
     "start_time": "2019-09-27T10:54:18.226298Z"
    }
   },
   "outputs": [
    {
     "name": "stdout",
     "output_type": "stream",
     "text": [
      "Running command:  /public/tools/netMHC/netMHCIIpan-3.2/netMHCIIpan -a DRB1_1114 -f /home/wsx/tmp/netMHC/OR5AC1_X20K_1569581656 -xls -xlsfile /home/wsx/tmp/netMHC/raw_affinities.OR5AC1_X20K_TA3X7Q > /home/wsx/tmp/netMHC/trash.OR5AC1_X20K_TA3X7Q\n"
     ]
    },
    {
     "data": {
      "text/plain": [
       "60.0"
      ]
     },
     "execution_count": 11,
     "metadata": {},
     "output_type": "execute_result"
    }
   ],
   "source": [
    "aII.allele_score(mut, verbose = True)"
   ]
  },
  {
   "cell_type": "code",
   "execution_count": 12,
   "metadata": {
    "ExecuteTime": {
     "end_time": "2019-09-27T10:54:19.922358Z",
     "start_time": "2019-09-27T10:54:18.666438Z"
    }
   },
   "outputs": [
    {
     "name": "stdout",
     "output_type": "stream",
     "text": [
      "Running command:  /public/tools/netMHC/netMHCpan-4.0/netMHCpan -a HLA-A01:01 -f /home/wsx/tmp/netMHC/OR5AC1_X20K_1569581656 -xls -xlsfile /home/wsx/tmp/netMHC/raw_affinities.OR5AC1_X20K_OV4EC2 > /home/wsx/tmp/netMHC/trash.OR5AC1_X20K_OV4EC2\n"
     ]
    },
    {
     "data": {
      "text/plain": [
       "0.262"
      ]
     },
     "execution_count": 12,
     "metadata": {},
     "output_type": "execute_result"
    }
   ],
   "source": [
    "# See command behind the python scripts\n",
    "aI.allele_score(mut, verbose=True)"
   ]
  },
  {
   "cell_type": "markdown",
   "metadata": {},
   "source": [
    "### Create a patient object <br>\n",
    "This object represents a patient and is defined by all of their MHC-I and/or MHC-II alleles.. "
   ]
  },
  {
   "cell_type": "code",
   "execution_count": 13,
   "metadata": {
    "ExecuteTime": {
     "end_time": "2019-09-27T10:54:19.931153Z",
     "start_time": "2019-09-27T10:54:19.925166Z"
    }
   },
   "outputs": [],
   "source": [
    "allelesI = ['HLA-A11:01', 'HLA-A31:35', 'HLA-B07:02', 'HLA-B40:30', 'HLA-C06:19', 'HLA-C07:07']\n",
    "allelesII = ['DRB1_1114', 'DRB1_1301', 'DRB1_1114', 'DRB1_1301', \\\n",
    "             'HLA-DQA10511-DQB10308', 'HLA-DQA10509-DQB10628', \\\n",
    "             'HLA-DQA10511-DQB10628', 'HLA-DQA10509-DQB10308', \\\n",
    "             'HLA-DPA10301-DPB19201', 'HLA-DPA10103-DPB13401', \\\n",
    "             'HLA-DPA10301-DPB13401', 'HLA-DPA10103-DPB19201']\n",
    "p = Patient(allelesI, allelesII)"
   ]
  },
  {
   "cell_type": "markdown",
   "metadata": {},
   "source": [
    "Call multi-allelic score"
   ]
  },
  {
   "cell_type": "code",
   "execution_count": 14,
   "metadata": {
    "ExecuteTime": {
     "end_time": "2019-09-27T10:54:27.648077Z",
     "start_time": "2019-09-27T10:54:19.933457Z"
    },
    "scrolled": false
   },
   "outputs": [
    {
     "data": {
      "text/plain": [
       "2.2255932841775534"
      ]
     },
     "execution_count": 14,
     "metadata": {},
     "output_type": "execute_result"
    }
   ],
   "source": [
    "p.patient_score(mut, mhc_class='I')"
   ]
  },
  {
   "cell_type": "code",
   "execution_count": 15,
   "metadata": {
    "ExecuteTime": {
     "end_time": "2019-09-27T10:54:33.231043Z",
     "start_time": "2019-09-27T10:54:27.651443Z"
    },
    "scrolled": true
   },
   "outputs": [
    {
     "data": {
      "text/plain": [
       "20.332726168791744"
      ]
     },
     "execution_count": 15,
     "metadata": {},
     "output_type": "execute_result"
    }
   ],
   "source": [
    "p.patient_score(mut, mhc_class='II')"
   ]
  },
  {
   "cell_type": "code",
   "execution_count": 16,
   "metadata": {
    "ExecuteTime": {
     "end_time": "2019-09-27T10:54:41.097121Z",
     "start_time": "2019-09-27T10:54:33.235602Z"
    }
   },
   "outputs": [
    {
     "data": {
      "text/plain": [
       "2.2255932841775534"
      ]
     },
     "execution_count": 16,
     "metadata": {},
     "output_type": "execute_result"
    }
   ],
   "source": [
    "# Only input MHC I\n",
    "allelesI = ['HLA-A11:01', 'HLA-A31:35', 'HLA-B07:02', 'HLA-B40:30', 'HLA-C06:19', 'HLA-C07:07']\n",
    "\n",
    "p = Patient(allelesI, [])\n",
    "\n",
    "p.patient_score(mut, mhc_class='I')"
   ]
  },
  {
   "cell_type": "markdown",
   "metadata": {},
   "source": [
    "#### Warning: netMHCpan/netMHCIIpan leave residual files. Be sure to delete your temparary directory after running. "
   ]
  },
  {
   "cell_type": "code",
   "execution_count": 17,
   "metadata": {
    "ExecuteTime": {
     "end_time": "2019-09-27T10:54:41.102162Z",
     "start_time": "2019-09-27T10:54:41.099568Z"
    }
   },
   "outputs": [],
   "source": [
    "# add removal statement\n",
    "# ! rm /cellar/users/ramarty/Data/pypresent/tmp/*"
   ]
  },
  {
   "cell_type": "code",
   "execution_count": null,
   "metadata": {},
   "outputs": [],
   "source": []
  }
 ],
 "metadata": {
  "kernelspec": {
   "display_name": "Python 3",
   "language": "python",
   "name": "python3"
  },
  "language_info": {
   "codemirror_mode": {
    "name": "ipython",
    "version": 3
   },
   "file_extension": ".py",
   "mimetype": "text/x-python",
   "name": "python",
   "nbconvert_exporter": "python",
   "pygments_lexer": "ipython3",
   "version": "3.7.3"
  },
  "toc": {
   "base_numbering": 1,
   "nav_menu": {},
   "number_sections": true,
   "sideBar": true,
   "skip_h1_title": false,
   "title_cell": "Table of Contents",
   "title_sidebar": "Contents",
   "toc_cell": false,
   "toc_position": {},
   "toc_section_display": true,
   "toc_window_display": false
  },
  "varInspector": {
   "cols": {
    "lenName": 16,
    "lenType": 16,
    "lenVar": 40
   },
   "kernels_config": {
    "python": {
     "delete_cmd_postfix": "",
     "delete_cmd_prefix": "del ",
     "library": "var_list.py",
     "varRefreshCmd": "print(var_dic_list())"
    },
    "r": {
     "delete_cmd_postfix": ") ",
     "delete_cmd_prefix": "rm(",
     "library": "var_list.r",
     "varRefreshCmd": "cat(var_dic_list()) "
    }
   },
   "types_to_exclude": [
    "module",
    "function",
    "builtin_function_or_method",
    "instance",
    "_Feature"
   ],
   "window_display": false
  }
 },
 "nbformat": 4,
 "nbformat_minor": 1
}
