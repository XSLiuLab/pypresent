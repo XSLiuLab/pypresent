{
 "cells": [
  {
   "cell_type": "markdown",
   "metadata": {},
   "source": [
    "## Example usage of PyPresent code"
   ]
  },
  {
   "cell_type": "markdown",
   "metadata": {},
   "source": [
    "Move into the PyPresent directory"
   ]
  },
  {
   "cell_type": "code",
   "execution_count": 1,
   "metadata": {},
   "outputs": [],
   "source": [
    "import sys\n",
    "sys.path.append('/Users/wsx/Documents/GitHub/pypresent/')"
   ]
  },
  {
   "cell_type": "markdown",
   "metadata": {},
   "source": [
    "Import the necessary modules"
   ]
  },
  {
   "cell_type": "code",
   "execution_count": 2,
   "metadata": {},
   "outputs": [],
   "source": [
    "from mutation import Mutation\n",
    "from allele import Allele\n",
    "from patient import Patient\n",
    "from config import check"
   ]
  },
  {
   "cell_type": "markdown",
   "metadata": {},
   "source": [
    "### Create a mutation object <br>\n",
    "This object represents the mutated residue that could be presented. There are **two** ways to import the sequence:"
   ]
  },
  {
   "cell_type": "markdown",
   "metadata": {},
   "source": [
    "**Example mutation:**<br>\n",
    "* Gene: OR5AC1 <br>\n",
    "* Mutated position: 20 <br>\n",
    "* Native amino acid: X <br>\n",
    "* New amino acid: 'K' <br>"
   ]
  },
  {
   "cell_type": "code",
   "execution_count": 3,
   "metadata": {},
   "outputs": [
    {
     "name": "stdout",
     "output_type": "stream",
     "text": [
      "9 30\n",
      "5 34\n"
     ]
    }
   ],
   "source": [
    "# 1. Fasta file\n",
    "mut = Mutation(20, 'K', from_file=True, gene_fasta_file='./data/protein.fa', id='OR5AC1_X20K')"
   ]
  },
  {
   "cell_type": "code",
   "execution_count": 20,
   "metadata": {},
   "outputs": [
    {
     "ename": "Exception",
     "evalue": "Residue does not exist in the protien.",
     "output_type": "error",
     "traceback": [
      "\u001b[0;31m---------------------------------------------------------------------------\u001b[0m",
      "\u001b[0;31mException\u001b[0m                                 Traceback (most recent call last)",
      "\u001b[0;32m<ipython-input-20-06a8233eb4ea>\u001b[0m in \u001b[0;36m<module>\u001b[0;34m\u001b[0m\n\u001b[1;32m      2\u001b[0m mut = Mutation(20, 'K', from_file=True, \n\u001b[1;32m      3\u001b[0m                \u001b[0mgene_fasta_file\u001b[0m\u001b[0;34m=\u001b[0m\u001b[0;34m'./icb_analysis/proteomes/Homo_sapiens.GRCh38.pep.all.fa'\u001b[0m\u001b[0;34m,\u001b[0m\u001b[0;34m\u001b[0m\u001b[0;34m\u001b[0m\u001b[0m\n\u001b[0;32m----> 4\u001b[0;31m                id='OR5AC1_X20K')\n\u001b[0m",
      "\u001b[0;32m~/Documents/GitHub/pypresent/mutation.py\u001b[0m in \u001b[0;36m__init__\u001b[0;34m(self, residue, aa, from_file, gene_fasta_file, gene_sequence, id, native_aa, native)\u001b[0m\n\u001b[1;32m    118\u001b[0m \u001b[0;34m\u001b[0m\u001b[0m\n\u001b[1;32m    119\u001b[0m         \u001b[0;31m# Create prepped output file\u001b[0m\u001b[0;34m\u001b[0m\u001b[0;34m\u001b[0m\u001b[0;34m\u001b[0m\u001b[0m\n\u001b[0;32m--> 120\u001b[0;31m         \u001b[0mself\u001b[0m\u001b[0;34m.\u001b[0m\u001b[0m_create_mutated_input_fasta\u001b[0m\u001b[0;34m(\u001b[0m\u001b[0;34m)\u001b[0m\u001b[0;34m\u001b[0m\u001b[0;34m\u001b[0m\u001b[0m\n\u001b[0m\u001b[1;32m    121\u001b[0m \u001b[0;34m\u001b[0m\u001b[0m\n\u001b[1;32m    122\u001b[0m         \u001b[0mself\u001b[0m\u001b[0;34m.\u001b[0m\u001b[0mpeptidesI\u001b[0m \u001b[0;34m=\u001b[0m \u001b[0mself\u001b[0m\u001b[0;34m.\u001b[0m\u001b[0mget_peptides_containing_residue\u001b[0m\u001b[0;34m(\u001b[0m\u001b[0;34m'I'\u001b[0m\u001b[0;34m)\u001b[0m\u001b[0;34m\u001b[0m\u001b[0;34m\u001b[0m\u001b[0m\n",
      "\u001b[0;32m~/Documents/GitHub/pypresent/mutation.py\u001b[0m in \u001b[0;36m_create_mutated_input_fasta\u001b[0;34m(self)\u001b[0m\n\u001b[1;32m     91\u001b[0m \u001b[0;34m\u001b[0m\u001b[0m\n\u001b[1;32m     92\u001b[0m             \u001b[0;32melse\u001b[0m\u001b[0;34m:\u001b[0m\u001b[0;34m\u001b[0m\u001b[0;34m\u001b[0m\u001b[0m\n\u001b[0;32m---> 93\u001b[0;31m                 \u001b[0;32mraise\u001b[0m \u001b[0mException\u001b[0m\u001b[0;34m(\u001b[0m\u001b[0;34m'Residue does not exist in the protien.'\u001b[0m\u001b[0;34m)\u001b[0m\u001b[0;34m\u001b[0m\u001b[0;34m\u001b[0m\u001b[0m\n\u001b[0m\u001b[1;32m     94\u001b[0m \u001b[0;34m\u001b[0m\u001b[0m\n\u001b[1;32m     95\u001b[0m     def __init__(self, residue, aa, from_file=True, gene_fasta_file='', gene_sequence='',\n",
      "\u001b[0;31mException\u001b[0m: Residue does not exist in the protien."
     ]
    }
   ],
   "source": [
    "# Test local fasta file\n",
    "mut = Mutation(20, 'K', from_file=True, \n",
    "               gene_fasta_file='./icb_analysis/proteomes/Homo_sapiens.GRCh38.pep.all.fa',\n",
    "               id='OR5AC1_X20K')"
   ]
  },
  {
   "cell_type": "code",
   "execution_count": 4,
   "metadata": {
    "scrolled": true
   },
   "outputs": [],
   "source": [
    "# 2. Directly with a string\n",
    "#from Bio import SeqIO\n",
    "#with open('./data/protein.fa', 'r') as handle:\n",
    "#    fasta_sequences = next(SeqIO.parse(handle,'fasta'))\n",
    "#sequence = str(fasta_sequences.seq)\n",
    "#mut = Mutation(21, 'K', from_file=False, gene_sequence=sequence, native_aa='P', id='OR5AC1_P21K')"
   ]
  },
  {
   "cell_type": "code",
   "execution_count": 19,
   "metadata": {},
   "outputs": [
    {
     "name": "stdout",
     "output_type": "stream",
     "text": [
      "9 30\n",
      "5 34\n"
     ]
    }
   ],
   "source": [
    "# 1. Fasta file\n",
    "mut = Mutation(20, 'H', from_file=True, \n",
    "               gene_fasta_file='./data/protein.fa', id='OR5AC1_X20K',\n",
    "               native_aa='H')"
   ]
  },
  {
   "cell_type": "markdown",
   "metadata": {},
   "source": [
    "### Create an allele object <br>\n",
    "This object represents a single MHC-I or MHC-II allele. Only create an allele object if you want a single-allelic score."
   ]
  },
  {
   "cell_type": "code",
   "execution_count": 5,
   "metadata": {},
   "outputs": [],
   "source": [
    "aI = Allele('HLA-A01:01', mhc_class='I')"
   ]
  },
  {
   "cell_type": "code",
   "execution_count": 6,
   "metadata": {},
   "outputs": [],
   "source": [
    "aII = Allele('DRB1_1114', mhc_class='II')"
   ]
  },
  {
   "cell_type": "markdown",
   "metadata": {},
   "source": [
    "Call single-allelic score"
   ]
  },
  {
   "cell_type": "code",
   "execution_count": 7,
   "metadata": {},
   "outputs": [
    {
     "name": "stdout",
     "output_type": "stream",
     "text": [
      "{'id': 'HLA-A01:01', 'mhc_class': 'I'}\n"
     ]
    }
   ],
   "source": [
    "check(aI)"
   ]
  },
  {
   "cell_type": "code",
   "execution_count": 8,
   "metadata": {},
   "outputs": [
    {
     "name": "stdout",
     "output_type": "stream",
     "text": [
      "{'aa': 'K',\n",
      " 'gene_fasta_file': './data/protein.fa',\n",
      " 'id': 'OR5AC1_X20K',\n",
      " 'native_aa': None,\n",
      " 'peptidesI': ['VLTGLTDK',\n",
      "               'LTGLTDKP',\n",
      "               'TGLTDKPG',\n",
      "               'GLTDKPGL',\n",
      "               'LTDKPGLQ',\n",
      "               'TDKPGLQA',\n",
      "               'DKPGLQAP',\n",
      "               'KPGLQAPL',\n",
      "               'FVLTGLTDK',\n",
      "               'VLTGLTDKP',\n",
      "               'LTGLTDKPG',\n",
      "               'TGLTDKPGL',\n",
      "               'GLTDKPGLQ',\n",
      "               'LTDKPGLQA',\n",
      "               'TDKPGLQAP',\n",
      "               'DKPGLQAPL',\n",
      "               'KPGLQAPLF',\n",
      "               'HFVLTGLTDK',\n",
      "               'FVLTGLTDKP',\n",
      "               'VLTGLTDKPG',\n",
      "               'LTGLTDKPGL',\n",
      "               'TGLTDKPGLQ',\n",
      "               'GLTDKPGLQA',\n",
      "               'LTDKPGLQAP',\n",
      "               'TDKPGLQAPL',\n",
      "               'DKPGLQAPLF',\n",
      "               'KPGLQAPLFL',\n",
      "               'THFVLTGLTDK',\n",
      "               'HFVLTGLTDKP',\n",
      "               'FVLTGLTDKPG',\n",
      "               'VLTGLTDKPGL',\n",
      "               'LTGLTDKPGLQ',\n",
      "               'TGLTDKPGLQA',\n",
      "               'GLTDKPGLQAP',\n",
      "               'LTDKPGLQAPL',\n",
      "               'TDKPGLQAPLF',\n",
      "               'DKPGLQAPLFL',\n",
      "               'KPGLQAPLFLV'],\n",
      " 'peptidesII': ['KILVTHFVLTGLTDK',\n",
      "                'ILVTHFVLTGLTDKP',\n",
      "                'LVTHFVLTGLTDKPG',\n",
      "                'VTHFVLTGLTDKPGL',\n",
      "                'THFVLTGLTDKPGLQ',\n",
      "                'HFVLTGLTDKPGLQA',\n",
      "                'FVLTGLTDKPGLQAP',\n",
      "                'VLTGLTDKPGLQAPL',\n",
      "                'LTGLTDKPGLQAPLF',\n",
      "                'TGLTDKPGLQAPLFL',\n",
      "                'GLTDKPGLQAPLFLV',\n",
      "                'LTDKPGLQAPLFLVF',\n",
      "                'TDKPGLQAPLFLVFL',\n",
      "                'DKPGLQAPLFLVFLV',\n",
      "                'KPGLQAPLFLVFLVI'],\n",
      " 'residue': 20,\n",
      " 'restricted_fasta_fileI': '/tmp/netMHC/OR5AC1_X20K_1569301669',\n",
      " 'restricted_fasta_fileII': '/tmp/netMHC/OR5AC1_X20K_1569301669',\n",
      " 'sequence': 'MAEENKILVTHFVLTGLTDHPGLQAPLFLVFLVIYLITLVGNLGLMALIWKDPHLHTPIYLFLGSLAFADACTSSSVTSKMLINFFIKESYAIHG*VCHPVLLFWFQCNHRMLPAGSDGL*PLCSHMQSLALSSGDVQ*PLYSVYRYFIFYWFSAFSDSCGFVI*INFLQVQYYTLFLL*NFTAVQNFLHQSYS*YTSDFHLFSIYTSLHFYDSYRLLLLYSLCHPEKEV*EG*KQSLLYLQCPSALCLFVLRHPLLHVCEF*VWISCRSGQNVFFILHNNNSFTKSFYLQPKEQRGYRCPEKNHEEI',\n",
      " 'short_mutated_sequenceI': 'THFVLTGLTDKPGLQAPLFLV',\n",
      " 'short_mutated_sequenceII': 'KILVTHFVLTGLTDKPGLQAPLFLVFLVI'}\n"
     ]
    }
   ],
   "source": [
    "check(mut)"
   ]
  },
  {
   "cell_type": "code",
   "execution_count": 18,
   "metadata": {
    "scrolled": true
   },
   "outputs": [
    {
     "data": {
      "text/plain": [
       "0.295"
      ]
     },
     "execution_count": 18,
     "metadata": {},
     "output_type": "execute_result"
    }
   ],
   "source": [
    "aI.allele_score(mut)"
   ]
  },
  {
   "cell_type": "code",
   "execution_count": 10,
   "metadata": {},
   "outputs": [
    {
     "data": {
      "text/plain": [
       "60.0"
      ]
     },
     "execution_count": 10,
     "metadata": {},
     "output_type": "execute_result"
    }
   ],
   "source": [
    "aII.allele_score(mut)"
   ]
  },
  {
   "cell_type": "code",
   "execution_count": 11,
   "metadata": {},
   "outputs": [
    {
     "name": "stdout",
     "output_type": "stream",
     "text": [
      "Running command:  /Users/wsx/biosoft/netMHCpan-4.0/netMHCpan -a HLA-A01:01 -f /tmp/netMHC/OR5AC1_X20K_1569301669 -xls -xlsfile /tmp/netMHC/raw_affinities.OR5AC1_X20K_HS8WIQ > /tmp/netMHC/trash.OR5AC1_X20K_HS8WIQ\n"
     ]
    },
    {
     "data": {
      "text/plain": [
       "0.295"
      ]
     },
     "execution_count": 11,
     "metadata": {},
     "output_type": "execute_result"
    }
   ],
   "source": [
    "# See command behind the python scripts\n",
    "aI.allele_score(mut, verbose=True)"
   ]
  },
  {
   "cell_type": "markdown",
   "metadata": {},
   "source": [
    "### Create a patient object <br>\n",
    "This object represents a patient and is defined by all of their MHC-I and/or MHC-II alleles.. "
   ]
  },
  {
   "cell_type": "code",
   "execution_count": 12,
   "metadata": {},
   "outputs": [],
   "source": [
    "allelesI = ['HLA-A11:01', 'HLA-A31:35', 'HLA-B07:02', 'HLA-B40:30', 'HLA-C06:19', 'HLA-C07:07']\n",
    "allelesII = ['DRB1_1114', 'DRB1_1301', 'DRB1_1114', 'DRB1_1301', \\\n",
    "             'HLA-DQA10511-DQB10308', 'HLA-DQA10509-DQB10628', \\\n",
    "             'HLA-DQA10511-DQB10628', 'HLA-DQA10509-DQB10308', \\\n",
    "             'HLA-DPA10301-DPB19201', 'HLA-DPA10103-DPB13401', \\\n",
    "             'HLA-DPA10301-DPB13401', 'HLA-DPA10103-DPB19201']\n",
    "p = Patient(allelesI, allelesII)"
   ]
  },
  {
   "cell_type": "markdown",
   "metadata": {},
   "source": [
    "Call multi-allelic score"
   ]
  },
  {
   "cell_type": "code",
   "execution_count": 13,
   "metadata": {
    "scrolled": false
   },
   "outputs": [
    {
     "data": {
      "text/plain": [
       "0.9755839765193998"
      ]
     },
     "execution_count": 13,
     "metadata": {},
     "output_type": "execute_result"
    }
   ],
   "source": [
    "p.patient_score(mut, mhc_class='I')"
   ]
  },
  {
   "cell_type": "code",
   "execution_count": 14,
   "metadata": {
    "scrolled": true
   },
   "outputs": [
    {
     "data": {
      "text/plain": [
       "18.547963440394945"
      ]
     },
     "execution_count": 14,
     "metadata": {},
     "output_type": "execute_result"
    }
   ],
   "source": [
    "p.patient_score(mut, mhc_class='II')"
   ]
  },
  {
   "cell_type": "markdown",
   "metadata": {},
   "source": [
    "#### Warning: netMHCpan/netMHCIIpan leave residual files. Be sure to delete your temparary directory after running. "
   ]
  },
  {
   "cell_type": "code",
   "execution_count": 15,
   "metadata": {},
   "outputs": [],
   "source": [
    "# add removal statement\n",
    "# ! rm /cellar/users/ramarty/Data/pypresent/tmp/*"
   ]
  },
  {
   "cell_type": "code",
   "execution_count": null,
   "metadata": {},
   "outputs": [],
   "source": []
  }
 ],
 "metadata": {
  "kernelspec": {
   "display_name": "Python 3",
   "language": "python",
   "name": "python3"
  },
  "language_info": {
   "codemirror_mode": {
    "name": "ipython",
    "version": 3
   },
   "file_extension": ".py",
   "mimetype": "text/x-python",
   "name": "python",
   "nbconvert_exporter": "python",
   "pygments_lexer": "ipython3",
   "version": "3.7.4"
  }
 },
 "nbformat": 4,
 "nbformat_minor": 1
}
